{
 "cells": [
  {
   "cell_type": "markdown",
   "id": "1c28755a",
   "metadata": {},
   "source": [
    "### Advent of Code 2021"
   ]
  },
  {
   "cell_type": "code",
   "execution_count": 3,
   "id": "aca52f33",
   "metadata": {},
   "outputs": [],
   "source": [
    "import numpy as np\n",
    "\n",
    "from collections import defaultdict"
   ]
  },
  {
   "cell_type": "markdown",
   "id": "e8c2ebce",
   "metadata": {},
   "source": [
    "###### Utilities"
   ]
  },
  {
   "cell_type": "code",
   "execution_count": 4,
   "id": "2773a857",
   "metadata": {},
   "outputs": [],
   "source": [
    "def list2int(l):\n",
    "    return list(map(int, l))\n",
    "\n",
    "def str2tuple(string, n):\n",
    "    return tuple(string.split()[:n])\n",
    "\n",
    "def transpose(l):\n",
    "    return list(zip(*l))\n",
    "\n",
    "    "
   ]
  },
  {
   "cell_type": "markdown",
   "id": "4cb8700d",
   "metadata": {},
   "source": [
    "##### Day 1"
   ]
  },
  {
   "cell_type": "code",
   "execution_count": 5,
   "id": "316f1404",
   "metadata": {},
   "outputs": [],
   "source": [
    "def day1():\n",
    "    with open('day1.txt', 'r') as f:\n",
    "        data = f.read().split('\\n')[:-1]\n",
    "        \n",
    "    data = list2int(data)\n",
    "\n",
    "    def part1():\n",
    "        return sum(data[i + 1] > data[i] for i in range(len(data) - 1))\n",
    "    \n",
    "    def part2():\n",
    "        larger = 0\n",
    "        for i in range(0, len(data) - 3):\n",
    "            if sum(data[i+1:i+4]) > sum(data[i:i+3]):\n",
    "                larger += 1\n",
    "        return larger            \n",
    "    \n",
    "    return part1, part2"
   ]
  },
  {
   "cell_type": "code",
   "execution_count": 6,
   "id": "d587aed9",
   "metadata": {},
   "outputs": [],
   "source": [
    "def day2():\n",
    "    with open('day2.txt', 'r') as f:\n",
    "        data = f.read().split('\\n')[:-1]\n",
    "        \n",
    "    def part1():    \n",
    "        horizontal_pos = 0\n",
    "        depth = 0\n",
    "\n",
    "        def forward(x):\n",
    "            nonlocal horizontal_pos\n",
    "            horizontal_pos += int(x)\n",
    "\n",
    "        def down(x):\n",
    "            nonlocal depth\n",
    "            depth += int(x)\n",
    "\n",
    "        def up(x):\n",
    "            nonlocal depth\n",
    "            depth -= int(x)\n",
    "\n",
    "        commands = {key: func for key, func in locals().items() if callable(func)}\n",
    "\n",
    "        for instruction in data:\n",
    "            cmd, value = instruction.split()\n",
    "            commands[cmd](value)\n",
    "            \n",
    "        return horizontal_pos * depth\n",
    "    \n",
    "    def part2():\n",
    "        horizontal_pos = 0\n",
    "        depth = 0\n",
    "        aim = 0\n",
    "        \n",
    "        def forward(x):\n",
    "            nonlocal horizontal_pos, depth\n",
    "            horizontal_pos += x\n",
    "            depth += aim * x\n",
    "            \n",
    "        def down(x):\n",
    "            nonlocal aim\n",
    "            aim += x\n",
    "            \n",
    "        def up(x):\n",
    "            nonlocal aim\n",
    "            aim -= x\n",
    "            \n",
    "        commands = {key: func for key, func in locals().items() if callable(func)}\n",
    "\n",
    "        for instruction in data:\n",
    "            cmd, value = instruction.split()\n",
    "            commands[cmd](int(value))\n",
    "            \n",
    "        return horizontal_pos * depth    \n",
    "            \n",
    "    return part1, part2"
   ]
  },
  {
   "cell_type": "code",
   "execution_count": 7,
   "id": "db4cc120",
   "metadata": {},
   "outputs": [],
   "source": [
    "bits = transpose(data)\n",
    "n = len(data)"
   ]
  },
  {
   "cell_type": "code",
   "execution_count": 8,
   "id": "ec291277",
   "metadata": {},
   "outputs": [],
   "source": [
    "def day3():\n",
    "    \n",
    "    with open('day3.txt', 'r') as f:\n",
    "        data = f.read().split('\\n')[:-1]\n",
    "        \n",
    "    n = len(data)\n",
    "    \n",
    "    def majority_ones(bit_col):\n",
    "        ints = list(map(int, bit_col))\n",
    "        return (sum(ints) / n) > 0.5\n",
    "    \n",
    "    def to_bitstring(bool_array):\n",
    "        bits = [int(b) for b in bool_array]\n",
    "        return ''.join([str(b) for b in bits])\n",
    "    \n",
    "    bools = [majority_ones(col) for col in transpose(data)]    \n",
    "    bitstring = to_bitstring(bools)\n",
    "    gamma = int(bitstring, 2)\n",
    "    not_bools = [not b for b in bools]\n",
    "    bitstring = to_bitstring(not_bools)\n",
    "    epsilon = int(bitstring, 2)\n",
    "    return gamma * epsilon"
   ]
  },
  {
   "cell_type": "code",
   "execution_count": 9,
   "id": "9c2aef9d",
   "metadata": {},
   "outputs": [],
   "source": [
    "data = '''\n",
    "00100\n",
    "11110\n",
    "10110\n",
    "10111\n",
    "10101\n",
    "01111\n",
    "00111\n",
    "11100\n",
    "10000\n",
    "11001\n",
    "00010\n",
    "01010\n",
    "'''.split()"
   ]
  },
  {
   "cell_type": "code",
   "execution_count": 10,
   "id": "7fa14319",
   "metadata": {},
   "outputs": [
    {
     "data": {
      "text/plain": [
       "['00100',\n",
       " '11110',\n",
       " '10110',\n",
       " '10111',\n",
       " '10101',\n",
       " '01111',\n",
       " '00111',\n",
       " '11100',\n",
       " '10000',\n",
       " '11001',\n",
       " '00010',\n",
       " '01010']"
      ]
     },
     "execution_count": 10,
     "metadata": {},
     "output_type": "execute_result"
    }
   ],
   "source": [
    "data"
   ]
  },
  {
   "cell_type": "code",
   "execution_count": 13,
   "id": "5d847981",
   "metadata": {},
   "outputs": [],
   "source": [
    "t = transpose(data)\n",
    "cols = [''.join(x) for x in t]"
   ]
  },
  {
   "cell_type": "code",
   "execution_count": 14,
   "id": "c7805733",
   "metadata": {},
   "outputs": [
    {
     "data": {
      "text/plain": [
       "['011110011100',\n",
       " '010001010101',\n",
       " '111111110000',\n",
       " '011101100011',\n",
       " '000111100100']"
      ]
     },
     "execution_count": 14,
     "metadata": {},
     "output_type": "execute_result"
    }
   ],
   "source": [
    "cols"
   ]
  },
  {
   "cell_type": "code",
   "execution_count": 15,
   "id": "b1803401",
   "metadata": {},
   "outputs": [],
   "source": [
    "c = cols[0]"
   ]
  },
  {
   "cell_type": "code",
   "execution_count": 17,
   "id": "32a23fff",
   "metadata": {},
   "outputs": [
    {
     "data": {
      "text/plain": [
       "0.5833333333333334"
      ]
     },
     "execution_count": 17,
     "metadata": {},
     "output_type": "execute_result"
    }
   ],
   "source": [
    "c.count('1') / len(c)"
   ]
  }
 ],
 "metadata": {
  "kernelspec": {
   "display_name": "Python 3 (ipykernel)",
   "language": "python",
   "name": "python3"
  },
  "language_info": {
   "codemirror_mode": {
    "name": "ipython",
    "version": 3
   },
   "file_extension": ".py",
   "mimetype": "text/x-python",
   "name": "python",
   "nbconvert_exporter": "python",
   "pygments_lexer": "ipython3",
   "version": "3.9.6"
  }
 },
 "nbformat": 4,
 "nbformat_minor": 5
}
